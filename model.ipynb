{
 "cells": [
  {
   "cell_type": "code",
   "execution_count": 32,
   "metadata": {},
   "outputs": [],
   "source": [
    "import warnings\n",
    "warnings.filterwarnings(\"ignore\")\n",
    "\n",
    "import numpy as np\n",
    "import pandas as pd\n",
    "from collections import defaultdict\n",
    "\n",
    "from sklearn.model_selection import KFold, cross_val_score\n",
    "from sklearn.linear_model import LogisticRegression\n",
    "from sklearn.tree import DecisionTreeClassifier\n",
    "from sklearn.neural_network import MLPClassifier\n",
    "from lightgbm import LGBMClassifier\n",
    "from catboost import CatBoostClassifier\n",
    "from xgboost import XGBClassifier"
   ]
  },
  {
   "cell_type": "markdown",
   "metadata": {},
   "source": [
    "# Importe data"
   ]
  },
  {
   "cell_type": "code",
   "execution_count": 33,
   "metadata": {},
   "outputs": [
    {
     "data": {
      "text/html": [
       "<div>\n",
       "<style scoped>\n",
       "    .dataframe tbody tr th:only-of-type {\n",
       "        vertical-align: middle;\n",
       "    }\n",
       "\n",
       "    .dataframe tbody tr th {\n",
       "        vertical-align: top;\n",
       "    }\n",
       "\n",
       "    .dataframe thead th {\n",
       "        text-align: right;\n",
       "    }\n",
       "</style>\n",
       "<table border=\"1\" class=\"dataframe\">\n",
       "  <thead>\n",
       "    <tr style=\"text-align: right;\">\n",
       "      <th></th>\n",
       "      <th>data</th>\n",
       "      <th>hora</th>\n",
       "      <th>temperatura</th>\n",
       "      <th>umidade</th>\n",
       "      <th>pressao</th>\n",
       "      <th>vel_vento</th>\n",
       "      <th>direcao_vento</th>\n",
       "      <th>nebulosidade</th>\n",
       "      <th>insolacao</th>\n",
       "      <th>temp_max</th>\n",
       "      <th>temp_min</th>\n",
       "      <th>precipitacao</th>\n",
       "    </tr>\n",
       "  </thead>\n",
       "  <tbody>\n",
       "    <tr>\n",
       "      <th>0</th>\n",
       "      <td>2000-01-01</td>\n",
       "      <td>12.0</td>\n",
       "      <td>27.2</td>\n",
       "      <td>80.0</td>\n",
       "      <td>1006.8</td>\n",
       "      <td>1.0</td>\n",
       "      <td>32.0</td>\n",
       "      <td>10.0</td>\n",
       "      <td>6.854922</td>\n",
       "      <td>32.108248</td>\n",
       "      <td>24.0</td>\n",
       "      <td>0.000000</td>\n",
       "    </tr>\n",
       "    <tr>\n",
       "      <th>1</th>\n",
       "      <td>2000-01-01</td>\n",
       "      <td>18.0</td>\n",
       "      <td>29.6</td>\n",
       "      <td>64.0</td>\n",
       "      <td>1006.1</td>\n",
       "      <td>2.0</td>\n",
       "      <td>9.0</td>\n",
       "      <td>10.0</td>\n",
       "      <td>6.854922</td>\n",
       "      <td>32.108248</td>\n",
       "      <td>24.121414302836595</td>\n",
       "      <td>6.919249</td>\n",
       "    </tr>\n",
       "    <tr>\n",
       "      <th>2</th>\n",
       "      <td>2000-01-02</td>\n",
       "      <td>0.0</td>\n",
       "      <td>25.6</td>\n",
       "      <td>89.0</td>\n",
       "      <td>1005.6</td>\n",
       "      <td>0.0</td>\n",
       "      <td>0.0</td>\n",
       "      <td>10.0</td>\n",
       "      <td>7.200000</td>\n",
       "      <td>30.800000</td>\n",
       "      <td>24.121414302836595</td>\n",
       "      <td>6.919249</td>\n",
       "    </tr>\n",
       "    <tr>\n",
       "      <th>3</th>\n",
       "      <td>2000-01-02</td>\n",
       "      <td>12.0</td>\n",
       "      <td>25.2</td>\n",
       "      <td>90.0</td>\n",
       "      <td>1006.7</td>\n",
       "      <td>0.0</td>\n",
       "      <td>0.0</td>\n",
       "      <td>10.0</td>\n",
       "      <td>6.854922</td>\n",
       "      <td>32.108248</td>\n",
       "      <td>24.0</td>\n",
       "      <td>53.500000</td>\n",
       "    </tr>\n",
       "    <tr>\n",
       "      <th>4</th>\n",
       "      <td>2000-01-02</td>\n",
       "      <td>18.0</td>\n",
       "      <td>30.2</td>\n",
       "      <td>68.0</td>\n",
       "      <td>1004.3</td>\n",
       "      <td>2.0</td>\n",
       "      <td>5.0</td>\n",
       "      <td>6.0</td>\n",
       "      <td>6.854922</td>\n",
       "      <td>32.108248</td>\n",
       "      <td>24.121414302836595</td>\n",
       "      <td>6.919249</td>\n",
       "    </tr>\n",
       "  </tbody>\n",
       "</table>\n",
       "</div>"
      ],
      "text/plain": [
       "         data  hora temperatura  umidade  pressao  vel_vento  direcao_vento  \\\n",
       "0  2000-01-01  12.0        27.2     80.0   1006.8        1.0           32.0   \n",
       "1  2000-01-01  18.0        29.6     64.0   1006.1        2.0            9.0   \n",
       "2  2000-01-02   0.0        25.6     89.0   1005.6        0.0            0.0   \n",
       "3  2000-01-02  12.0        25.2     90.0   1006.7        0.0            0.0   \n",
       "4  2000-01-02  18.0        30.2     68.0   1004.3        2.0            5.0   \n",
       "\n",
       "   nebulosidade  insolacao   temp_max            temp_min  precipitacao  \n",
       "0          10.0   6.854922  32.108248                24.0      0.000000  \n",
       "1          10.0   6.854922  32.108248  24.121414302836595      6.919249  \n",
       "2          10.0   7.200000  30.800000  24.121414302836595      6.919249  \n",
       "3          10.0   6.854922  32.108248                24.0     53.500000  \n",
       "4           6.0   6.854922  32.108248  24.121414302836595      6.919249  "
      ]
     },
     "execution_count": 33,
     "metadata": {},
     "output_type": "execute_result"
    }
   ],
   "source": [
    "df = pd.read_csv('macapa-2000-2020.csv', encoding='iso8859-1')\n",
    "df = df.drop(columns=['Unnamed: 0'])\n",
    "df = df.rename( columns = { 'chuva' : 'precipitacao' })\n",
    "df.head()"
   ]
  },
  {
   "cell_type": "code",
   "execution_count": 34,
   "metadata": {},
   "outputs": [
    {
     "data": {
      "text/plain": [
       "0        2000-01-01\n",
       "1        2000-01-01\n",
       "2        2000-01-02\n",
       "3        2000-01-02\n",
       "4        2000-01-02\n",
       "            ...    \n",
       "23003    2021-01-05\n",
       "23004    2021-01-05\n",
       "23005    2021-01-06\n",
       "23006    2021-01-06\n",
       "23007    2021-01-06\n",
       "Name: data, Length: 23008, dtype: object"
      ]
     },
     "execution_count": 34,
     "metadata": {},
     "output_type": "execute_result"
    }
   ],
   "source": [
    "df.data"
   ]
  },
  {
   "cell_type": "markdown",
   "metadata": {},
   "source": [
    "# Feature Engineering"
   ]
  },
  {
   "cell_type": "markdown",
   "metadata": {},
   "source": [
    "- Tratando dados faltantes"
   ]
  },
  {
   "cell_type": "code",
   "execution_count": 35,
   "metadata": {},
   "outputs": [],
   "source": [
    "# Tabela de percentual de dados faltantes\n",
    "def table_missing(df, size):\n",
    "    \n",
    "    total = df.isnull().sum().sort_values(ascending=False)\n",
    "    percent = (df.isnull().sum()/df.isnull().count()).sort_values(ascending=False) * 100\n",
    "\n",
    "    missing = pd.concat([total, percent], axis=1, join='outer', keys=['Total_faltantes', 'Percentual'])\n",
    "\n",
    "    missing.index.name = 'Variaveis Numericas'\n",
    "    \n",
    "    return missing.head(size)"
   ]
  },
  {
   "cell_type": "code",
   "execution_count": 36,
   "metadata": {},
   "outputs": [
    {
     "data": {
      "text/html": [
       "<div>\n",
       "<style scoped>\n",
       "    .dataframe tbody tr th:only-of-type {\n",
       "        vertical-align: middle;\n",
       "    }\n",
       "\n",
       "    .dataframe tbody tr th {\n",
       "        vertical-align: top;\n",
       "    }\n",
       "\n",
       "    .dataframe thead th {\n",
       "        text-align: right;\n",
       "    }\n",
       "</style>\n",
       "<table border=\"1\" class=\"dataframe\">\n",
       "  <thead>\n",
       "    <tr style=\"text-align: right;\">\n",
       "      <th></th>\n",
       "      <th>Total_faltantes</th>\n",
       "      <th>Percentual</th>\n",
       "    </tr>\n",
       "    <tr>\n",
       "      <th>Variaveis Numericas</th>\n",
       "      <th></th>\n",
       "      <th></th>\n",
       "    </tr>\n",
       "  </thead>\n",
       "  <tbody>\n",
       "    <tr>\n",
       "      <th>precipitacao</th>\n",
       "      <td>134</td>\n",
       "      <td>0.582406</td>\n",
       "    </tr>\n",
       "    <tr>\n",
       "      <th>umidade</th>\n",
       "      <td>133</td>\n",
       "      <td>0.578060</td>\n",
       "    </tr>\n",
       "    <tr>\n",
       "      <th>pressao</th>\n",
       "      <td>133</td>\n",
       "      <td>0.578060</td>\n",
       "    </tr>\n",
       "    <tr>\n",
       "      <th>vel_vento</th>\n",
       "      <td>133</td>\n",
       "      <td>0.578060</td>\n",
       "    </tr>\n",
       "    <tr>\n",
       "      <th>direcao_vento</th>\n",
       "      <td>133</td>\n",
       "      <td>0.578060</td>\n",
       "    </tr>\n",
       "    <tr>\n",
       "      <th>nebulosidade</th>\n",
       "      <td>133</td>\n",
       "      <td>0.578060</td>\n",
       "    </tr>\n",
       "    <tr>\n",
       "      <th>insolacao</th>\n",
       "      <td>133</td>\n",
       "      <td>0.578060</td>\n",
       "    </tr>\n",
       "    <tr>\n",
       "      <th>temp_max</th>\n",
       "      <td>133</td>\n",
       "      <td>0.578060</td>\n",
       "    </tr>\n",
       "    <tr>\n",
       "      <th>temp_min</th>\n",
       "      <td>133</td>\n",
       "      <td>0.578060</td>\n",
       "    </tr>\n",
       "    <tr>\n",
       "      <th>temperatura</th>\n",
       "      <td>130</td>\n",
       "      <td>0.565021</td>\n",
       "    </tr>\n",
       "    <tr>\n",
       "      <th>hora</th>\n",
       "      <td>114</td>\n",
       "      <td>0.495480</td>\n",
       "    </tr>\n",
       "    <tr>\n",
       "      <th>data</th>\n",
       "      <td>83</td>\n",
       "      <td>0.360744</td>\n",
       "    </tr>\n",
       "  </tbody>\n",
       "</table>\n",
       "</div>"
      ],
      "text/plain": [
       "                     Total_faltantes  Percentual\n",
       "Variaveis Numericas                             \n",
       "precipitacao                     134    0.582406\n",
       "umidade                          133    0.578060\n",
       "pressao                          133    0.578060\n",
       "vel_vento                        133    0.578060\n",
       "direcao_vento                    133    0.578060\n",
       "nebulosidade                     133    0.578060\n",
       "insolacao                        133    0.578060\n",
       "temp_max                         133    0.578060\n",
       "temp_min                         133    0.578060\n",
       "temperatura                      130    0.565021\n",
       "hora                             114    0.495480\n",
       "data                              83    0.360744"
      ]
     },
     "execution_count": 36,
     "metadata": {},
     "output_type": "execute_result"
    }
   ],
   "source": [
    "table_missing(df, 27)"
   ]
  },
  {
   "cell_type": "code",
   "execution_count": 37,
   "metadata": {},
   "outputs": [
    {
     "data": {
      "text/plain": [
       "data             0\n",
       "hora             0\n",
       "temperatura      0\n",
       "umidade          0\n",
       "pressao          0\n",
       "vel_vento        0\n",
       "direcao_vento    0\n",
       "nebulosidade     0\n",
       "insolacao        0\n",
       "temp_max         0\n",
       "temp_min         0\n",
       "precipitacao     0\n",
       "dtype: int64"
      ]
     },
     "execution_count": 37,
     "metadata": {},
     "output_type": "execute_result"
    }
   ],
   "source": [
    "df = df.dropna(axis=0)\n",
    "df.isnull().sum()"
   ]
  },
  {
   "cell_type": "markdown",
   "metadata": {},
   "source": [
    "- Transformando os tipos das features"
   ]
  },
  {
   "cell_type": "code",
   "execution_count": 38,
   "metadata": {},
   "outputs": [],
   "source": [
    "'''\n",
    "Como algumas variaveis numericas estavam como object \n",
    "não estava como float fazemos a transformação da mesmas\n",
    "'''\n",
    "\n",
    "df['temperatura'] = df['temperatura'].astype('float')\n",
    "df['hora'] = df['hora'].astype('float')\n",
    "df['temp_min'] = df['temp_min'].astype('float')"
   ]
  },
  {
   "cell_type": "markdown",
   "metadata": {},
   "source": [
    "- Criando Variaveis Sazonais"
   ]
  },
  {
   "cell_type": "code",
   "execution_count": 39,
   "metadata": {},
   "outputs": [],
   "source": [
    "df['data'] = pd.to_datetime(df['data'])\n",
    "\n",
    "df[\"diadasemana\"] = df[\"data\"].dt.dayofweek\n",
    "df[\"diadomes\"] = df[\"data\"].dt.day\n",
    "df[\"trimestre\"] = df[\"data\"].dt.quarter\n",
    "df[\"mes\"] = df[\"data\"].dt.month\n",
    "df[\"semanadoano\"] = df[\"data\"].dt.weekofyear\n",
    "df[\"ano\"] = df[\"data\"].dt.year"
   ]
  },
  {
   "cell_type": "markdown",
   "metadata": {},
   "source": [
    "### Atrasos (lags) da série temporal\n",
    "\n",
    "**LAG = Yt - 1**\n",
    "\n",
    "Mudando a série [Math Processing Error] para trás, obtemos uma feature em que o valor atual da série temporal está alinhado com seu valor no tempo [Math Processing Error]. Se fizermos uma mudança de 1 lag e treinarmos um modelo com essa nova feature, o modelo poderá prever um passo à frente e observar o estado atual da série. Aumentar o atraso (lag), digamos, até 7, permitirá que o modelo faça previsões 28 passos à frente; no entanto, usará os dados observados nas 28 etapas para trás. Se algo mudar fundamentalmente a série durante esse período não observado, o modelo não capturará essas alterações e retornará previsões com um grande erro. Portanto, durante a seleção do atraso inicial, é preciso encontrar um equilíbrio entre a qualidade ideal da previsão e a duração de previsão."
   ]
  },
  {
   "cell_type": "code",
   "execution_count": 40,
   "metadata": {},
   "outputs": [],
   "source": [
    "for l in range(1, 7):\n",
    "    df[f'lag_{l}'] = df['precipitacao'].shift(l)"
   ]
  },
  {
   "cell_type": "markdown",
   "metadata": {},
   "source": [
    "### Diferença do Lag \n",
    "\n",
    "**DIFF_LAG = Yt-1 - Yt-2**"
   ]
  },
  {
   "cell_type": "code",
   "execution_count": 41,
   "metadata": {},
   "outputs": [],
   "source": [
    "for l in range(1, 7):\n",
    "    df[f'diff_lag_{l}'] = df['precipitacao'].diff(l)"
   ]
  },
  {
   "cell_type": "markdown",
   "metadata": {},
   "source": [
    "# Criar labels para classificação"
   ]
  },
  {
   "cell_type": "code",
   "execution_count": 42,
   "metadata": {},
   "outputs": [],
   "source": [
    "bins = [-1.0, 0.3, 2.5, 10, 50, 215.800000]\n",
    "\n",
    "labels = [\"sem_chuva\", \"fraca\", \"moderada\", \"forte\", \"violenta\"]\n",
    "classe = [\"0\", \"1\", \"2\", \"3\", \"4\"]\n",
    "\n",
    "df['labels'] = pd.cut(df.precipitacao, bins = bins, labels = labels).astype('string')\n",
    "df['classes'] = pd.cut(df.precipitacao, bins = bins, labels = classe).astype('float')"
   ]
  },
  {
   "cell_type": "markdown",
   "metadata": {},
   "source": [
    "# Tratando dados ausentes das features de Lag e diff de lag"
   ]
  },
  {
   "cell_type": "code",
   "execution_count": 43,
   "metadata": {},
   "outputs": [
    {
     "data": {
      "text/html": [
       "<div>\n",
       "<style scoped>\n",
       "    .dataframe tbody tr th:only-of-type {\n",
       "        vertical-align: middle;\n",
       "    }\n",
       "\n",
       "    .dataframe tbody tr th {\n",
       "        vertical-align: top;\n",
       "    }\n",
       "\n",
       "    .dataframe thead th {\n",
       "        text-align: right;\n",
       "    }\n",
       "</style>\n",
       "<table border=\"1\" class=\"dataframe\">\n",
       "  <thead>\n",
       "    <tr style=\"text-align: right;\">\n",
       "      <th></th>\n",
       "      <th>Total_faltantes</th>\n",
       "      <th>Percentual</th>\n",
       "    </tr>\n",
       "    <tr>\n",
       "      <th>Variaveis Numericas</th>\n",
       "      <th></th>\n",
       "      <th></th>\n",
       "    </tr>\n",
       "  </thead>\n",
       "  <tbody>\n",
       "    <tr>\n",
       "      <th>diff_lag_6</th>\n",
       "      <td>6</td>\n",
       "      <td>0.026231</td>\n",
       "    </tr>\n",
       "    <tr>\n",
       "      <th>lag_6</th>\n",
       "      <td>6</td>\n",
       "      <td>0.026231</td>\n",
       "    </tr>\n",
       "    <tr>\n",
       "      <th>diff_lag_5</th>\n",
       "      <td>5</td>\n",
       "      <td>0.021859</td>\n",
       "    </tr>\n",
       "    <tr>\n",
       "      <th>lag_5</th>\n",
       "      <td>5</td>\n",
       "      <td>0.021859</td>\n",
       "    </tr>\n",
       "    <tr>\n",
       "      <th>diff_lag_4</th>\n",
       "      <td>4</td>\n",
       "      <td>0.017487</td>\n",
       "    </tr>\n",
       "    <tr>\n",
       "      <th>lag_4</th>\n",
       "      <td>4</td>\n",
       "      <td>0.017487</td>\n",
       "    </tr>\n",
       "    <tr>\n",
       "      <th>diff_lag_3</th>\n",
       "      <td>3</td>\n",
       "      <td>0.013115</td>\n",
       "    </tr>\n",
       "    <tr>\n",
       "      <th>lag_3</th>\n",
       "      <td>3</td>\n",
       "      <td>0.013115</td>\n",
       "    </tr>\n",
       "    <tr>\n",
       "      <th>diff_lag_2</th>\n",
       "      <td>2</td>\n",
       "      <td>0.008744</td>\n",
       "    </tr>\n",
       "    <tr>\n",
       "      <th>lag_2</th>\n",
       "      <td>2</td>\n",
       "      <td>0.008744</td>\n",
       "    </tr>\n",
       "    <tr>\n",
       "      <th>diff_lag_1</th>\n",
       "      <td>1</td>\n",
       "      <td>0.004372</td>\n",
       "    </tr>\n",
       "    <tr>\n",
       "      <th>lag_1</th>\n",
       "      <td>1</td>\n",
       "      <td>0.004372</td>\n",
       "    </tr>\n",
       "  </tbody>\n",
       "</table>\n",
       "</div>"
      ],
      "text/plain": [
       "                     Total_faltantes  Percentual\n",
       "Variaveis Numericas                             \n",
       "diff_lag_6                         6    0.026231\n",
       "lag_6                              6    0.026231\n",
       "diff_lag_5                         5    0.021859\n",
       "lag_5                              5    0.021859\n",
       "diff_lag_4                         4    0.017487\n",
       "lag_4                              4    0.017487\n",
       "diff_lag_3                         3    0.013115\n",
       "lag_3                              3    0.013115\n",
       "diff_lag_2                         2    0.008744\n",
       "lag_2                              2    0.008744\n",
       "diff_lag_1                         1    0.004372\n",
       "lag_1                              1    0.004372"
      ]
     },
     "execution_count": 43,
     "metadata": {},
     "output_type": "execute_result"
    }
   ],
   "source": [
    "table_missing(df, len(df.columns)).query('Total_faltantes > 0')"
   ]
  },
  {
   "cell_type": "markdown",
   "metadata": {},
   "source": [
    "- Substituir valores ausentes pela media"
   ]
  },
  {
   "cell_type": "code",
   "execution_count": 44,
   "metadata": {},
   "outputs": [
    {
     "data": {
      "text/plain": [
       "Index(['diff_lag_6', 'lag_6', 'diff_lag_5', 'lag_5', 'diff_lag_4', 'lag_4',\n",
       "       'diff_lag_3', 'lag_3', 'diff_lag_2', 'lag_2', 'diff_lag_1', 'lag_1'],\n",
       "      dtype='object', name='Variaveis Numericas')"
      ]
     },
     "execution_count": 44,
     "metadata": {},
     "output_type": "execute_result"
    }
   ],
   "source": [
    "columns = table_missing(df, len(df.columns)).query('Total_faltantes > 0').index\n",
    "columns"
   ]
  },
  {
   "cell_type": "code",
   "execution_count": 45,
   "metadata": {},
   "outputs": [],
   "source": [
    "for column in columns:\n",
    "    df[column] = df[column].fillna(df[column].mean())"
   ]
  },
  {
   "cell_type": "markdown",
   "metadata": {},
   "source": [
    "# Treinamento de modelo"
   ]
  },
  {
   "cell_type": "code",
   "execution_count": 46,
   "metadata": {},
   "outputs": [],
   "source": [
    "y = df[\"classes\"]\n",
    "X = df.drop([\"labels\", \"classes\", \"data\"], axis=1)\n",
    "\n",
    "cv = KFold(n_splits=7, random_state=1, shuffle=True)"
   ]
  },
  {
   "cell_type": "markdown",
   "metadata": {},
   "source": [
    "- Regressão Logistica"
   ]
  },
  {
   "cell_type": "code",
   "execution_count": 47,
   "metadata": {},
   "outputs": [
    {
     "name": "stdout",
     "output_type": "stream",
     "text": [
      "acuracia K_fold: [0.95960832 0.95807834 0.95073439 0.94767442 0.94767442 0.95224977\n",
      " 0.95194368]\n",
      "media acuracia 0.9525661913555538 std acuracia 0.004337170861965945\n"
     ]
    }
   ],
   "source": [
    "val_scores_lr = cross_val_score(LogisticRegression(), X, y, scoring='accuracy', cv=cv)\n",
    "print(f'acuracia K_fold: {val_scores_lr}')\n",
    "print(f'media acuracia {np.mean(val_scores_lr)} std acuracia {np.std(val_scores_lr)}')"
   ]
  },
  {
   "cell_type": "markdown",
   "metadata": {},
   "source": [
    "- MLP"
   ]
  },
  {
   "cell_type": "code",
   "execution_count": 48,
   "metadata": {},
   "outputs": [
    {
     "name": "stdout",
     "output_type": "stream",
     "text": [
      "acuracia K_fold: [0.9874541  0.98408813 0.99112607 0.98041616 0.99143207 0.9684726\n",
      " 0.98561371]\n",
      "media acuracia 0.9840861202272129 std acuracia 0.007313892772189051\n"
     ]
    }
   ],
   "source": [
    "val_scores_mlp = cross_val_score( MLPClassifier(16), X, y, scoring='accuracy', cv=cv)\n",
    "print(f'acuracia K_fold: {val_scores_mlp}')\n",
    "print(f'media acuracia {np.mean(val_scores_mlp)} std acuracia {np.std(val_scores_mlp)}')"
   ]
  },
  {
   "cell_type": "markdown",
   "metadata": {},
   "source": [
    "- Regressão Logistica"
   ]
  },
  {
   "cell_type": "code",
   "execution_count": 49,
   "metadata": {},
   "outputs": [
    {
     "name": "stdout",
     "output_type": "stream",
     "text": [
      "acuracia K_fold: [0.999694   1.         1.         1.         1.         0.99938782\n",
      " 1.        ]\n",
      "media acuracia 0.999868831431088 std acuracia 0.00022295594555096998\n"
     ]
    }
   ],
   "source": [
    "val_scores_tree = cross_val_score(DecisionTreeClassifier(), X, y, scoring='accuracy', cv=cv)\n",
    "print(f'acuracia K_fold: {val_scores_tree}')\n",
    "print(f'media acuracia {np.mean(val_scores_tree)} std acuracia {np.std(val_scores_tree)}')"
   ]
  },
  {
   "cell_type": "markdown",
   "metadata": {},
   "source": [
    "- XGBOOST"
   ]
  },
  {
   "cell_type": "code",
   "execution_count": 53,
   "metadata": {},
   "outputs": [
    {
     "name": "stdout",
     "output_type": "stream",
     "text": [
      "acuracia K_fold: [1. 1. 1. 1. 1. 1. 1.]\n",
      "media acuracia 1.0 std acuracia 0.0\n"
     ]
    }
   ],
   "source": [
    "val_scores_xgb = cross_val_score(XGBClassifier(), X, y, scoring='accuracy', cv=cv)\n",
    "print(f'acuracia K_fold: {val_scores_xgb}')\n",
    "print(f'media acuracia {np.mean(val_scores_xgb)} std acuracia {np.std(val_scores_xgb)}')"
   ]
  },
  {
   "cell_type": "markdown",
   "metadata": {},
   "source": [
    "- Catboost"
   ]
  },
  {
   "cell_type": "code",
   "execution_count": 54,
   "metadata": {},
   "outputs": [
    {
     "name": "stdout",
     "output_type": "stream",
     "text": [
      "acuracia K_fold: [0.999694   1.         1.         1.         1.         0.99938782\n",
      " 1.        ]\n",
      "media acuracia 0.999868831431088 std acuracia 0.00022295594555096998\n"
     ]
    }
   ],
   "source": [
    "val_scores_cat = cross_val_score(CatBoostClassifier(), X, y, scoring='accuracy', cv=cv)\n",
    "print(f'acuracia K_fold: {val_scores_cat}')\n",
    "print(f'media acuracia {np.mean(val_scores_cat)} std acuracia {np.std(val_scores_cat)}')"
   ]
  },
  {
   "cell_type": "markdown",
   "metadata": {},
   "source": [
    "- LGBM"
   ]
  },
  {
   "cell_type": "code",
   "execution_count": 52,
   "metadata": {},
   "outputs": [
    {
     "name": "stdout",
     "output_type": "stream",
     "text": [
      "acuracia K_fold: [0.999694   1.         1.         0.999694   1.         0.99938782\n",
      " 1.        ]\n",
      "media acuracia 0.9998251174950852 std acuracia 0.00022295069860324147\n"
     ]
    }
   ],
   "source": [
    "val_scores_LGBM = cross_val_score(LGBMClassifier(), X, y, scoring='accuracy', cv=cv)\n",
    "print(f'acuracia K_fold: {val_scores_LGBM}')\n",
    "print(f'media acuracia {np.mean(val_scores_LGBM)} std acuracia {np.std(val_scores_LGBM)}')"
   ]
  }
 ],
 "metadata": {
  "interpreter": {
   "hash": "916dbcbb3f70747c44a77c7bcd40155683ae19c65e1c03b4aa3499c5328201f1"
  },
  "kernelspec": {
   "display_name": "Python 3.8.10 64-bit",
   "language": "python",
   "name": "python3"
  },
  "language_info": {
   "codemirror_mode": {
    "name": "ipython",
    "version": 3
   },
   "file_extension": ".py",
   "mimetype": "text/x-python",
   "name": "python",
   "nbconvert_exporter": "python",
   "pygments_lexer": "ipython3",
   "version": "3.8.10"
  }
 },
 "nbformat": 4,
 "nbformat_minor": 4
}
