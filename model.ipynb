{
 "cells": [
  {
   "cell_type": "code",
   "execution_count": 1,
   "metadata": {},
   "outputs": [],
   "source": [
    "import warnings\n",
    "warnings.filterwarnings(\"ignore\")\n",
    "\n",
    "import numpy as np\n",
    "import pandas as pd\n",
    "\n",
    "from sklearn.model_selection import(\n",
    "    train_test_split, \n",
    "    KFold,\n",
    "    cross_val_score    \n",
    ") \n",
    "\n",
    "from sklearn.linear_model import LogisticRegression\n",
    "from sklearn.tree import DecisionTreeClassifier\n",
    "from sklearn.neural_network import MLPClassifier\n",
    "from lightgbm import LGBMClassifier\n",
    "from catboost import CatBoostClassifier\n",
    "from xgboost import XGBClassifier"
   ]
  },
  {
   "cell_type": "markdown",
   "metadata": {},
   "source": [
    "# Importe data"
   ]
  },
  {
   "cell_type": "code",
   "execution_count": 2,
   "metadata": {},
   "outputs": [
    {
     "data": {
      "text/html": [
       "<div>\n",
       "<style scoped>\n",
       "    .dataframe tbody tr th:only-of-type {\n",
       "        vertical-align: middle;\n",
       "    }\n",
       "\n",
       "    .dataframe tbody tr th {\n",
       "        vertical-align: top;\n",
       "    }\n",
       "\n",
       "    .dataframe thead th {\n",
       "        text-align: right;\n",
       "    }\n",
       "</style>\n",
       "<table border=\"1\" class=\"dataframe\">\n",
       "  <thead>\n",
       "    <tr style=\"text-align: right;\">\n",
       "      <th></th>\n",
       "      <th>data</th>\n",
       "      <th>hora</th>\n",
       "      <th>temperatura</th>\n",
       "      <th>umidade</th>\n",
       "      <th>pressao</th>\n",
       "      <th>vel_vento</th>\n",
       "      <th>direcao_vento</th>\n",
       "      <th>nebulosidade</th>\n",
       "      <th>insolacao</th>\n",
       "      <th>temp_max</th>\n",
       "      <th>temp_min</th>\n",
       "      <th>precipitacao</th>\n",
       "    </tr>\n",
       "  </thead>\n",
       "  <tbody>\n",
       "    <tr>\n",
       "      <th>0</th>\n",
       "      <td>2000-01-01</td>\n",
       "      <td>12.0</td>\n",
       "      <td>27.2</td>\n",
       "      <td>80.0</td>\n",
       "      <td>1006.8</td>\n",
       "      <td>1.0</td>\n",
       "      <td>32.0</td>\n",
       "      <td>10.0</td>\n",
       "      <td>6.854922</td>\n",
       "      <td>32.108248</td>\n",
       "      <td>24.0</td>\n",
       "      <td>0.000000</td>\n",
       "    </tr>\n",
       "    <tr>\n",
       "      <th>1</th>\n",
       "      <td>2000-01-01</td>\n",
       "      <td>18.0</td>\n",
       "      <td>29.6</td>\n",
       "      <td>64.0</td>\n",
       "      <td>1006.1</td>\n",
       "      <td>2.0</td>\n",
       "      <td>9.0</td>\n",
       "      <td>10.0</td>\n",
       "      <td>6.854922</td>\n",
       "      <td>32.108248</td>\n",
       "      <td>24.121414302836595</td>\n",
       "      <td>6.919249</td>\n",
       "    </tr>\n",
       "    <tr>\n",
       "      <th>2</th>\n",
       "      <td>2000-01-02</td>\n",
       "      <td>0.0</td>\n",
       "      <td>25.6</td>\n",
       "      <td>89.0</td>\n",
       "      <td>1005.6</td>\n",
       "      <td>0.0</td>\n",
       "      <td>0.0</td>\n",
       "      <td>10.0</td>\n",
       "      <td>7.200000</td>\n",
       "      <td>30.800000</td>\n",
       "      <td>24.121414302836595</td>\n",
       "      <td>6.919249</td>\n",
       "    </tr>\n",
       "    <tr>\n",
       "      <th>3</th>\n",
       "      <td>2000-01-02</td>\n",
       "      <td>12.0</td>\n",
       "      <td>25.2</td>\n",
       "      <td>90.0</td>\n",
       "      <td>1006.7</td>\n",
       "      <td>0.0</td>\n",
       "      <td>0.0</td>\n",
       "      <td>10.0</td>\n",
       "      <td>6.854922</td>\n",
       "      <td>32.108248</td>\n",
       "      <td>24.0</td>\n",
       "      <td>53.500000</td>\n",
       "    </tr>\n",
       "    <tr>\n",
       "      <th>4</th>\n",
       "      <td>2000-01-02</td>\n",
       "      <td>18.0</td>\n",
       "      <td>30.2</td>\n",
       "      <td>68.0</td>\n",
       "      <td>1004.3</td>\n",
       "      <td>2.0</td>\n",
       "      <td>5.0</td>\n",
       "      <td>6.0</td>\n",
       "      <td>6.854922</td>\n",
       "      <td>32.108248</td>\n",
       "      <td>24.121414302836595</td>\n",
       "      <td>6.919249</td>\n",
       "    </tr>\n",
       "  </tbody>\n",
       "</table>\n",
       "</div>"
      ],
      "text/plain": [
       "         data  hora temperatura  umidade  pressao  vel_vento  direcao_vento  \\\n",
       "0  2000-01-01  12.0        27.2     80.0   1006.8        1.0           32.0   \n",
       "1  2000-01-01  18.0        29.6     64.0   1006.1        2.0            9.0   \n",
       "2  2000-01-02   0.0        25.6     89.0   1005.6        0.0            0.0   \n",
       "3  2000-01-02  12.0        25.2     90.0   1006.7        0.0            0.0   \n",
       "4  2000-01-02  18.0        30.2     68.0   1004.3        2.0            5.0   \n",
       "\n",
       "   nebulosidade  insolacao   temp_max            temp_min  precipitacao  \n",
       "0          10.0   6.854922  32.108248                24.0      0.000000  \n",
       "1          10.0   6.854922  32.108248  24.121414302836595      6.919249  \n",
       "2          10.0   7.200000  30.800000  24.121414302836595      6.919249  \n",
       "3          10.0   6.854922  32.108248                24.0     53.500000  \n",
       "4           6.0   6.854922  32.108248  24.121414302836595      6.919249  "
      ]
     },
     "execution_count": 2,
     "metadata": {},
     "output_type": "execute_result"
    }
   ],
   "source": [
    "df = pd.read_csv('macapa-2000-2020.csv', encoding='iso8859-1')\n",
    "df = df.drop(columns=['Unnamed: 0'])\n",
    "df = df.rename( columns = { 'chuva' : 'precipitacao' })\n",
    "df.head()"
   ]
  },
  {
   "cell_type": "markdown",
   "metadata": {},
   "source": [
    "# Feature Engineering"
   ]
  },
  {
   "cell_type": "markdown",
   "metadata": {},
   "source": [
    "- Tratando dados faltantes"
   ]
  },
  {
   "cell_type": "code",
   "execution_count": 3,
   "metadata": {},
   "outputs": [],
   "source": [
    "# Tabela de percentual de dados faltantes\n",
    "def table_missing(df, size):\n",
    "    \n",
    "    total = df.isnull().sum().sort_values(ascending=False)\n",
    "    percent = (df.isnull().sum()/df.isnull().count()).sort_values(ascending=False) * 100\n",
    "\n",
    "    missing = pd.concat([total, percent], axis=1, join='outer', keys=['Total_faltantes', 'Percentual'])\n",
    "\n",
    "    missing.index.name = 'Variaveis Numericas'\n",
    "    \n",
    "    return missing.head(size)"
   ]
  },
  {
   "cell_type": "code",
   "execution_count": 4,
   "metadata": {},
   "outputs": [
    {
     "data": {
      "text/html": [
       "<div>\n",
       "<style scoped>\n",
       "    .dataframe tbody tr th:only-of-type {\n",
       "        vertical-align: middle;\n",
       "    }\n",
       "\n",
       "    .dataframe tbody tr th {\n",
       "        vertical-align: top;\n",
       "    }\n",
       "\n",
       "    .dataframe thead th {\n",
       "        text-align: right;\n",
       "    }\n",
       "</style>\n",
       "<table border=\"1\" class=\"dataframe\">\n",
       "  <thead>\n",
       "    <tr style=\"text-align: right;\">\n",
       "      <th></th>\n",
       "      <th>Total_faltantes</th>\n",
       "      <th>Percentual</th>\n",
       "    </tr>\n",
       "    <tr>\n",
       "      <th>Variaveis Numericas</th>\n",
       "      <th></th>\n",
       "      <th></th>\n",
       "    </tr>\n",
       "  </thead>\n",
       "  <tbody>\n",
       "    <tr>\n",
       "      <th>precipitacao</th>\n",
       "      <td>134</td>\n",
       "      <td>0.582406</td>\n",
       "    </tr>\n",
       "    <tr>\n",
       "      <th>umidade</th>\n",
       "      <td>133</td>\n",
       "      <td>0.578060</td>\n",
       "    </tr>\n",
       "    <tr>\n",
       "      <th>pressao</th>\n",
       "      <td>133</td>\n",
       "      <td>0.578060</td>\n",
       "    </tr>\n",
       "    <tr>\n",
       "      <th>vel_vento</th>\n",
       "      <td>133</td>\n",
       "      <td>0.578060</td>\n",
       "    </tr>\n",
       "    <tr>\n",
       "      <th>direcao_vento</th>\n",
       "      <td>133</td>\n",
       "      <td>0.578060</td>\n",
       "    </tr>\n",
       "    <tr>\n",
       "      <th>nebulosidade</th>\n",
       "      <td>133</td>\n",
       "      <td>0.578060</td>\n",
       "    </tr>\n",
       "    <tr>\n",
       "      <th>insolacao</th>\n",
       "      <td>133</td>\n",
       "      <td>0.578060</td>\n",
       "    </tr>\n",
       "    <tr>\n",
       "      <th>temp_max</th>\n",
       "      <td>133</td>\n",
       "      <td>0.578060</td>\n",
       "    </tr>\n",
       "    <tr>\n",
       "      <th>temp_min</th>\n",
       "      <td>133</td>\n",
       "      <td>0.578060</td>\n",
       "    </tr>\n",
       "    <tr>\n",
       "      <th>temperatura</th>\n",
       "      <td>130</td>\n",
       "      <td>0.565021</td>\n",
       "    </tr>\n",
       "    <tr>\n",
       "      <th>hora</th>\n",
       "      <td>114</td>\n",
       "      <td>0.495480</td>\n",
       "    </tr>\n",
       "    <tr>\n",
       "      <th>data</th>\n",
       "      <td>83</td>\n",
       "      <td>0.360744</td>\n",
       "    </tr>\n",
       "  </tbody>\n",
       "</table>\n",
       "</div>"
      ],
      "text/plain": [
       "                     Total_faltantes  Percentual\n",
       "Variaveis Numericas                             \n",
       "precipitacao                     134    0.582406\n",
       "umidade                          133    0.578060\n",
       "pressao                          133    0.578060\n",
       "vel_vento                        133    0.578060\n",
       "direcao_vento                    133    0.578060\n",
       "nebulosidade                     133    0.578060\n",
       "insolacao                        133    0.578060\n",
       "temp_max                         133    0.578060\n",
       "temp_min                         133    0.578060\n",
       "temperatura                      130    0.565021\n",
       "hora                             114    0.495480\n",
       "data                              83    0.360744"
      ]
     },
     "execution_count": 4,
     "metadata": {},
     "output_type": "execute_result"
    }
   ],
   "source": [
    "table_missing(df, len(df))"
   ]
  },
  {
   "cell_type": "code",
   "execution_count": 5,
   "metadata": {},
   "outputs": [
    {
     "data": {
      "text/plain": [
       "data             0\n",
       "hora             0\n",
       "temperatura      0\n",
       "umidade          0\n",
       "pressao          0\n",
       "vel_vento        0\n",
       "direcao_vento    0\n",
       "nebulosidade     0\n",
       "insolacao        0\n",
       "temp_max         0\n",
       "temp_min         0\n",
       "precipitacao     0\n",
       "dtype: int64"
      ]
     },
     "execution_count": 5,
     "metadata": {},
     "output_type": "execute_result"
    }
   ],
   "source": [
    "df = df.dropna(axis=0)\n",
    "df.isnull().sum()"
   ]
  },
  {
   "cell_type": "markdown",
   "metadata": {},
   "source": [
    "- Transformando os tipos das features"
   ]
  },
  {
   "cell_type": "code",
   "execution_count": 6,
   "metadata": {},
   "outputs": [],
   "source": [
    "'''\n",
    "Como algumas variaveis numericas estavam como object \n",
    "não estava como float fazemos a transformação da mesmas\n",
    "'''\n",
    "\n",
    "df['temperatura'] = df['temperatura'].astype('float')\n",
    "df['hora'] = df['hora'].astype('float')\n",
    "df['temp_min'] = df['temp_min'].astype('float')"
   ]
  },
  {
   "cell_type": "markdown",
   "metadata": {},
   "source": [
    "- Criando Variaveis Sazonais"
   ]
  },
  {
   "cell_type": "code",
   "execution_count": 7,
   "metadata": {},
   "outputs": [],
   "source": [
    "df[\"data\"] = pd.to_datetime(df[\"data\"])\n",
    "\n",
    "df[\"diadasemana\"] = df[\"data\"].dt.dayofweek\n",
    "df[\"diadomes\"] = df[\"data\"].dt.day\n",
    "df[\"trimestre\"] = df[\"data\"].dt.quarter\n",
    "df[\"mes\"] = df[\"data\"].dt.month\n",
    "df[\"semanadoano\"] = df[\"data\"].dt.weekofyear\n",
    "df[\"ano\"] = df[\"data\"].dt.year"
   ]
  },
  {
   "cell_type": "markdown",
   "metadata": {},
   "source": [
    "### Atrasos (lags) da série temporal\n",
    "\n",
    "**LAG = Yt - 1**\n",
    "\n",
    "Mudando a série [Math Processing Error] para trás, obtemos uma feature em que o valor atual da série temporal está alinhado com seu valor no tempo [Math Processing Error]. Se fizermos uma mudança de 1 lag e treinarmos um modelo com essa nova feature, o modelo poderá prever um passo à frente e observar o estado atual da série. Aumentar o atraso (lag), digamos, até 7, permitirá que o modelo faça previsões 28 passos à frente; no entanto, usará os dados observados nas 28 etapas para trás. Se algo mudar fundamentalmente a série durante esse período não observado, o modelo não capturará essas alterações e retornará previsões com um grande erro. Portanto, durante a seleção do atraso inicial, é preciso encontrar um equilíbrio entre a qualidade ideal da previsão e a duração de previsão."
   ]
  },
  {
   "cell_type": "code",
   "execution_count": 8,
   "metadata": {},
   "outputs": [],
   "source": [
    "for l in range(1, 7):\n",
    "    df[f'lag_{l}'] = df[\"precipitacao\"].shift(l)"
   ]
  },
  {
   "cell_type": "markdown",
   "metadata": {},
   "source": [
    "### Diferença do Lag \n",
    "\n",
    "**DIFF_LAG = Yt-1 - Yt-2**"
   ]
  },
  {
   "cell_type": "code",
   "execution_count": 9,
   "metadata": {},
   "outputs": [],
   "source": [
    "for l in range(1, 7):\n",
    "    df[f'diff_lag_{l}'] = df[\"precipitacao\"].diff(l)"
   ]
  },
  {
   "cell_type": "markdown",
   "metadata": {},
   "source": [
    "# Criar labels para classificação"
   ]
  },
  {
   "cell_type": "code",
   "execution_count": 10,
   "metadata": {},
   "outputs": [],
   "source": [
    "bins = [-1.0, 0.3, 2.5, 10, 50, 215.800000]\n",
    "\n",
    "labels = [\"sem_chuva\", \"fraca\", \"moderada\", \"forte\", \"violenta\"]\n",
    "classe = [\"0\", \"1\", \"2\", \"3\", \"4\"]\n",
    "\n",
    "df['labels'] = pd.cut(df.precipitacao, bins = bins, labels = labels).astype('string')\n",
    "df['classes'] = pd.cut(df.precipitacao, bins = bins, labels = classe).astype('float')"
   ]
  },
  {
   "cell_type": "markdown",
   "metadata": {},
   "source": [
    "# Tratando dados ausentes das features de Lag e diff de lag"
   ]
  },
  {
   "cell_type": "code",
   "execution_count": 11,
   "metadata": {},
   "outputs": [
    {
     "data": {
      "text/html": [
       "<div>\n",
       "<style scoped>\n",
       "    .dataframe tbody tr th:only-of-type {\n",
       "        vertical-align: middle;\n",
       "    }\n",
       "\n",
       "    .dataframe tbody tr th {\n",
       "        vertical-align: top;\n",
       "    }\n",
       "\n",
       "    .dataframe thead th {\n",
       "        text-align: right;\n",
       "    }\n",
       "</style>\n",
       "<table border=\"1\" class=\"dataframe\">\n",
       "  <thead>\n",
       "    <tr style=\"text-align: right;\">\n",
       "      <th></th>\n",
       "      <th>Total_faltantes</th>\n",
       "      <th>Percentual</th>\n",
       "    </tr>\n",
       "    <tr>\n",
       "      <th>Variaveis Numericas</th>\n",
       "      <th></th>\n",
       "      <th></th>\n",
       "    </tr>\n",
       "  </thead>\n",
       "  <tbody>\n",
       "    <tr>\n",
       "      <th>diff_lag_6</th>\n",
       "      <td>6</td>\n",
       "      <td>0.026231</td>\n",
       "    </tr>\n",
       "    <tr>\n",
       "      <th>lag_6</th>\n",
       "      <td>6</td>\n",
       "      <td>0.026231</td>\n",
       "    </tr>\n",
       "    <tr>\n",
       "      <th>diff_lag_5</th>\n",
       "      <td>5</td>\n",
       "      <td>0.021859</td>\n",
       "    </tr>\n",
       "    <tr>\n",
       "      <th>lag_5</th>\n",
       "      <td>5</td>\n",
       "      <td>0.021859</td>\n",
       "    </tr>\n",
       "    <tr>\n",
       "      <th>diff_lag_4</th>\n",
       "      <td>4</td>\n",
       "      <td>0.017487</td>\n",
       "    </tr>\n",
       "    <tr>\n",
       "      <th>lag_4</th>\n",
       "      <td>4</td>\n",
       "      <td>0.017487</td>\n",
       "    </tr>\n",
       "    <tr>\n",
       "      <th>diff_lag_3</th>\n",
       "      <td>3</td>\n",
       "      <td>0.013115</td>\n",
       "    </tr>\n",
       "    <tr>\n",
       "      <th>lag_3</th>\n",
       "      <td>3</td>\n",
       "      <td>0.013115</td>\n",
       "    </tr>\n",
       "    <tr>\n",
       "      <th>diff_lag_2</th>\n",
       "      <td>2</td>\n",
       "      <td>0.008744</td>\n",
       "    </tr>\n",
       "    <tr>\n",
       "      <th>lag_2</th>\n",
       "      <td>2</td>\n",
       "      <td>0.008744</td>\n",
       "    </tr>\n",
       "    <tr>\n",
       "      <th>diff_lag_1</th>\n",
       "      <td>1</td>\n",
       "      <td>0.004372</td>\n",
       "    </tr>\n",
       "    <tr>\n",
       "      <th>lag_1</th>\n",
       "      <td>1</td>\n",
       "      <td>0.004372</td>\n",
       "    </tr>\n",
       "  </tbody>\n",
       "</table>\n",
       "</div>"
      ],
      "text/plain": [
       "                     Total_faltantes  Percentual\n",
       "Variaveis Numericas                             \n",
       "diff_lag_6                         6    0.026231\n",
       "lag_6                              6    0.026231\n",
       "diff_lag_5                         5    0.021859\n",
       "lag_5                              5    0.021859\n",
       "diff_lag_4                         4    0.017487\n",
       "lag_4                              4    0.017487\n",
       "diff_lag_3                         3    0.013115\n",
       "lag_3                              3    0.013115\n",
       "diff_lag_2                         2    0.008744\n",
       "lag_2                              2    0.008744\n",
       "diff_lag_1                         1    0.004372\n",
       "lag_1                              1    0.004372"
      ]
     },
     "execution_count": 11,
     "metadata": {},
     "output_type": "execute_result"
    }
   ],
   "source": [
    "table_missing(df, len(df.columns)).query('Total_faltantes > 0')"
   ]
  },
  {
   "cell_type": "markdown",
   "metadata": {},
   "source": [
    "- Substituir valores ausentes pela media"
   ]
  },
  {
   "cell_type": "code",
   "execution_count": 12,
   "metadata": {},
   "outputs": [
    {
     "data": {
      "text/plain": [
       "Index(['diff_lag_6', 'lag_6', 'diff_lag_5', 'lag_5', 'diff_lag_4', 'lag_4',\n",
       "       'diff_lag_3', 'lag_3', 'diff_lag_2', 'lag_2', 'diff_lag_1', 'lag_1'],\n",
       "      dtype='object', name='Variaveis Numericas')"
      ]
     },
     "execution_count": 12,
     "metadata": {},
     "output_type": "execute_result"
    }
   ],
   "source": [
    "columns = table_missing(df, len(df.columns)).query('Total_faltantes > 0').index\n",
    "columns"
   ]
  },
  {
   "cell_type": "code",
   "execution_count": 13,
   "metadata": {},
   "outputs": [],
   "source": [
    "for column in columns:\n",
    "    df[column] = df[column].fillna(df[column].mean())"
   ]
  },
  {
   "cell_type": "markdown",
   "metadata": {},
   "source": [
    "# Treinamento de modelo"
   ]
  },
  {
   "cell_type": "code",
   "execution_count": 14,
   "metadata": {},
   "outputs": [],
   "source": [
    "def summary_accuracy(result):\n",
    "    mean_accuracy = result.mean()\n",
    "    std_accuracy = result.std()\n",
    "    print(f'Acurácia por K-fold: {result}')\n",
    "    print(f'Media Acurácia: {mean_accuracy} | Desvio Padrão Acurácia: {std_accuracy}')"
   ]
  },
  {
   "cell_type": "code",
   "execution_count": 15,
   "metadata": {},
   "outputs": [],
   "source": [
    "y = df[\"classes\"]\n",
    "X = df.drop([\"labels\", \"classes\", \"data\", \"precipitacao\"], axis=1)\n",
    "\n",
    "kfold  = KFold(n_splits=10, shuffle=True)  "
   ]
  },
  {
   "cell_type": "markdown",
   "metadata": {},
   "source": [
    "- Regressão Logistica"
   ]
  },
  {
   "cell_type": "code",
   "execution_count": 16,
   "metadata": {},
   "outputs": [
    {
     "name": "stdout",
     "output_type": "stream",
     "text": [
      "Acurácia por K-fold: [0.9375     0.9409965  0.93881119 0.94318182 0.9409707  0.93659816\n",
      " 0.95190206 0.93353739 0.9247923  0.94534324]\n",
      "Media Acurácia: 0.9393633367070185 | Desvio Padrão Acurácia: 0.006859228733158099\n"
     ]
    }
   ],
   "source": [
    "val_scores_lr = cross_val_score(LogisticRegression(), X, y, scoring='accuracy', cv=kfold)\n",
    "summary_accuracy(val_scores_lr)"
   ]
  },
  {
   "cell_type": "markdown",
   "metadata": {},
   "source": [
    "- MLP"
   ]
  },
  {
   "cell_type": "code",
   "execution_count": 17,
   "metadata": {},
   "outputs": [
    {
     "name": "stdout",
     "output_type": "stream",
     "text": [
      "Acurácia por K-fold: [0.97596154 0.98557692 0.9916958  0.99038462 0.99387844 0.97944906\n",
      " 0.98469611 0.98425885 0.98994316 0.97114123]\n",
      "Media Acurácia: 0.9846985737262302 | Desvio Padrão Acurácia: 0.006940659101165021\n"
     ]
    }
   ],
   "source": [
    "val_scores_mlp = cross_val_score(MLPClassifier(16), X, y, scoring='accuracy', cv=kfold)\n",
    "summary_accuracy(val_scores_mlp)"
   ]
  },
  {
   "cell_type": "markdown",
   "metadata": {},
   "source": [
    "- Regressão Logistica"
   ]
  },
  {
   "cell_type": "code",
   "execution_count": 18,
   "metadata": {},
   "outputs": [
    {
     "name": "stdout",
     "output_type": "stream",
     "text": [
      "Acurácia por K-fold: [0.99956294 1.         0.99956294 1.         1.         1.\n",
      " 1.         0.99956275 0.99956275 0.99781373]\n",
      "Media Acurácia: 0.9996065095813675 | Desvio Padrão Acurácia: 0.0006321282000800664\n"
     ]
    }
   ],
   "source": [
    "val_scores_tree = cross_val_score(DecisionTreeClassifier(), X, y,  scoring='accuracy', cv=kfold)\n",
    "summary_accuracy(val_scores_tree)"
   ]
  },
  {
   "cell_type": "markdown",
   "metadata": {},
   "source": [
    "- XGBOOST"
   ]
  },
  {
   "cell_type": "code",
   "execution_count": 19,
   "metadata": {},
   "outputs": [
    {
     "name": "stdout",
     "output_type": "stream",
     "text": [
      "[09:27:57] WARNING: ../src/learner.cc:1095: Starting in XGBoost 1.3.0, the default evaluation metric used with the objective 'multi:softprob' was changed from 'merror' to 'mlogloss'. Explicitly set eval_metric if you'd like to restore the old behavior.\n",
      "[09:28:03] WARNING: ../src/learner.cc:1095: Starting in XGBoost 1.3.0, the default evaluation metric used with the objective 'multi:softprob' was changed from 'merror' to 'mlogloss'. Explicitly set eval_metric if you'd like to restore the old behavior.\n",
      "[09:28:18] WARNING: ../src/learner.cc:1095: Starting in XGBoost 1.3.0, the default evaluation metric used with the objective 'multi:softprob' was changed from 'merror' to 'mlogloss'. Explicitly set eval_metric if you'd like to restore the old behavior.\n",
      "[09:28:22] WARNING: ../src/learner.cc:1095: Starting in XGBoost 1.3.0, the default evaluation metric used with the objective 'multi:softprob' was changed from 'merror' to 'mlogloss'. Explicitly set eval_metric if you'd like to restore the old behavior.\n",
      "[09:28:25] WARNING: ../src/learner.cc:1095: Starting in XGBoost 1.3.0, the default evaluation metric used with the objective 'multi:softprob' was changed from 'merror' to 'mlogloss'. Explicitly set eval_metric if you'd like to restore the old behavior.\n",
      "[09:28:29] WARNING: ../src/learner.cc:1095: Starting in XGBoost 1.3.0, the default evaluation metric used with the objective 'multi:softprob' was changed from 'merror' to 'mlogloss'. Explicitly set eval_metric if you'd like to restore the old behavior.\n",
      "[09:28:35] WARNING: ../src/learner.cc:1095: Starting in XGBoost 1.3.0, the default evaluation metric used with the objective 'multi:softprob' was changed from 'merror' to 'mlogloss'. Explicitly set eval_metric if you'd like to restore the old behavior.\n",
      "[09:28:43] WARNING: ../src/learner.cc:1095: Starting in XGBoost 1.3.0, the default evaluation metric used with the objective 'multi:softprob' was changed from 'merror' to 'mlogloss'. Explicitly set eval_metric if you'd like to restore the old behavior.\n",
      "[09:28:51] WARNING: ../src/learner.cc:1095: Starting in XGBoost 1.3.0, the default evaluation metric used with the objective 'multi:softprob' was changed from 'merror' to 'mlogloss'. Explicitly set eval_metric if you'd like to restore the old behavior.\n",
      "[09:28:55] WARNING: ../src/learner.cc:1095: Starting in XGBoost 1.3.0, the default evaluation metric used with the objective 'multi:softprob' was changed from 'merror' to 'mlogloss'. Explicitly set eval_metric if you'd like to restore the old behavior.\n",
      "Acurácia por K-fold: [0.99956294 1.         1.         0.99956294 1.         1.\n",
      " 0.99956275 1.         1.         1.        ]\n",
      "Media Acurácia: 0.9998688620081275 | Desvio Padrão Acurácia: 0.00020031659749092305\n"
     ]
    }
   ],
   "source": [
    "val_scores_xgb = cross_val_score(XGBClassifier(), X, y,  scoring='accuracy', cv=kfold)\n",
    "summary_accuracy(val_scores_xgb)"
   ]
  },
  {
   "cell_type": "markdown",
   "metadata": {},
   "source": [
    "- LGBM"
   ]
  },
  {
   "cell_type": "code",
   "execution_count": 20,
   "metadata": {},
   "outputs": [
    {
     "name": "stdout",
     "output_type": "stream",
     "text": [
      "Acurácia por K-fold: [1.         0.99956294 1.         1.         1.         0.99868824\n",
      " 0.99956275 0.99956275 0.99868824 1.        ]\n",
      "Media Acurácia: 0.9996064904706138 | Desvio Padrão Acurácia: 0.0004966234493211\n"
     ]
    }
   ],
   "source": [
    "val_scores_lgbm = cross_val_score(LGBMClassifier(), X, y, scoring='accuracy', cv=kfold)\n",
    "summary_accuracy(val_scores_lgbm)"
   ]
  },
  {
   "cell_type": "markdown",
   "metadata": {},
   "source": [
    "- Catboost"
   ]
  },
  {
   "cell_type": "code",
   "execution_count": 22,
   "metadata": {},
   "outputs": [
    {
     "name": "stdout",
     "output_type": "stream",
     "text": [
      "Acurácia por K-fold: [1.         0.99912587 1.         0.99912587 0.99956275 1.\n",
      " 0.99912549 0.99912549 0.99956275 1.        ]\n",
      "Media Acurácia: 0.9995628223984149 | Desvio Padrão Acurácia: 0.00039100646152528804\n"
     ]
    }
   ],
   "source": [
    "val_scores_cat = cross_val_score(CatBoostClassifier(), X, y, scoring='accuracy', cv=kfold)\n",
    "summary_accuracy(val_scores_cat)"
   ]
  }
 ],
 "metadata": {
  "interpreter": {
   "hash": "916dbcbb3f70747c44a77c7bcd40155683ae19c65e1c03b4aa3499c5328201f1"
  },
  "kernelspec": {
   "display_name": "Python 3.8.10 64-bit",
   "language": "python",
   "name": "python3"
  },
  "language_info": {
   "codemirror_mode": {
    "name": "ipython",
    "version": 3
   },
   "file_extension": ".py",
   "mimetype": "text/x-python",
   "name": "python",
   "nbconvert_exporter": "python",
   "pygments_lexer": "ipython3",
   "version": "3.8.10"
  }
 },
 "nbformat": 4,
 "nbformat_minor": 4
}
